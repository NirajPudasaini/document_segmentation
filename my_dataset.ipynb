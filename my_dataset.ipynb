{
 "cells": [
  {
   "cell_type": "code",
   "execution_count": 5,
   "id": "373cf0e2",
   "metadata": {},
   "outputs": [],
   "source": [
    "import os\n",
    "from torch.utils.data import Dataset\n",
    "import torchvision.transforms as tt"
   ]
  },
  {
   "cell_type": "code",
   "execution_count": 18,
   "id": "5cb6de6b",
   "metadata": {},
   "outputs": [
    {
     "data": {
      "text/plain": [
       "'C:\\\\Users\\\\niraj\\\\doc_seg\\\\valid'"
      ]
     },
     "execution_count": 18,
     "metadata": {},
     "output_type": "execute_result"
    }
   ],
   "source": [
    "#Defining the directories \n",
    "dataset_dir=r\"C:\\Users\\niraj\\doc_seg\"\n",
    "train_dataset_dir = os.path.join(dataset_dir,\"train\")\n",
    "eval_dataset_dir = os.path.join(dataset_dir,\"valid\")\n",
    "eval_dataset_dir"
   ]
  },
  {
   "cell_type": "code",
   "execution_count": 4,
   "id": "f0fedc9e",
   "metadata": {},
   "outputs": [],
   "source": [
    "def train_transforms(mean=(0.4611, 0.4359, 0.3905), \n",
    "                      std=(0.2193, 0.2150, 0.2109)\n",
    "):\n",
    "    transforms = tt.Compose([\n",
    "        tt.ToTensor(),\n",
    "        tt.RandomGrayscale(p=0.4),                                        \n",
    "        tt.Normalize(mean, std),\n",
    "    ])\n",
    "    \n",
    "    return transforms\n",
    "\n",
    "\n",
    "def eval_transforms(mean=(0.4611, 0.4359, 0.3905), \n",
    "                       std=(0.2193, 0.2150, 0.2109)\n",
    "):\n",
    "    transforms = tt.Compose([\n",
    "        tt.ToTensor(),\n",
    "        tt.Normalize(mean, std),\n",
    "    ])\n",
    "    \n",
    "    return transforms"
   ]
  },
  {
   "cell_type": "code",
   "execution_count": 19,
   "id": "015776e5",
   "metadata": {},
   "outputs": [
    {
     "ename": "SyntaxError",
     "evalue": "unexpected EOF while parsing (3525785579.py, line 23)",
     "output_type": "error",
     "traceback": [
      "\u001b[1;36m  File \u001b[1;32m\"C:\\Users\\niraj\\AppData\\Local\\Temp\\ipykernel_4796\\3525785579.py\"\u001b[1;36m, line \u001b[1;32m23\u001b[0m\n\u001b[1;33m    \u001b[0m\n\u001b[1;37m    ^\u001b[0m\n\u001b[1;31mSyntaxError\u001b[0m\u001b[1;31m:\u001b[0m unexpected EOF while parsing\n"
     ]
    }
   ],
   "source": [
    "class doc_dataset(Dataset):\n",
    "    \n",
    "    def __init__(self, *,doc_paths, mask_paths, \n",
    "                 size = (384,384), \n",
    "                 data_type =\"train\"):\n",
    "        \n",
    "        self.data_type  = data_type\n",
    "        self.img_paths  = doc_paths\n",
    "        self.mask_paths = mask_paths\n",
    "        self.image_size = image_size\n",
    "        \n",
    "        if self.data_type == \"train\":\n",
    "            self.transforms = train_transforms()\n",
    "        else:\n",
    "            self.transforms = eval_transforms()\n",
    "        \n",
    "    def __len__():\n",
    "        return len(self.img_paths)   \n",
    "    \n",
    "    \n",
    "    def get_item(self,idx):\n",
    " \n",
    "         "
   ]
  },
  {
   "cell_type": "code",
   "execution_count": 21,
   "id": "5634cf09",
   "metadata": {},
   "outputs": [],
   "source": [
    "def get_dataset(data_dir, batch_zize=16):\n",
    "    \n",
    "    train_img_dir = os.path.join(train_dataset_dir, \"images\")\n",
    "    train_msk_dir = os.path.join(train_dataset_dir, \"masks\")\n",
    "\n",
    "    valid_img_dir = os.path.join(eval_dataset_dir, \"images\")\n",
    "    valid_msk_dir = os.path.join(eval_dataset_dir, \"masks\")\n",
    "    \n",
    "    train_img_paths = [os.path.join(train_img_dir, i) for i in os.listdir(train_img_dir)]\n",
    "    train_msk_paths = [os.path.join(train_msk_dir, i) for i in os.listdir(train_msk_dir)]\n",
    "\n",
    "    valid_img_paths = [os.path.join(valid_img_dir, i) for i in os.listdir(valid_img_dir)]\n",
    "    valid_msk_paths = [os.path.join(valid_msk_dir, i) for i in os.listdir(valid_msk_dir)]\n",
    "\n",
    "    train_ds = SegDataset(img_paths=train_img_paths, mask_paths=train_msk_paths, data_type=\"train\")\n",
    "    valid_ds = SegDataset(img_paths=valid_img_paths, mask_paths=valid_msk_paths, data_type=\"valid\")\n",
    "\n",
    "    train_loader = DataLoader(train_ds, batch_size=batch_size,  shuffle=True)\n",
    "    valid_loader = DataLoader(valid_ds, batch_size=batch_size, shuffle=False)\n",
    "\n",
    "    return train_loader, valid_loader\n"
   ]
  },
  {
   "cell_type": "code",
   "execution_count": 22,
   "id": "b60e9b35",
   "metadata": {},
   "outputs": [
    {
     "ename": "TypeError",
     "evalue": "get_dataset() got an unexpected keyword argument 'batch_size'",
     "output_type": "error",
     "traceback": [
      "\u001b[1;31m---------------------------------------------------------------------------\u001b[0m",
      "\u001b[1;31mTypeError\u001b[0m                                 Traceback (most recent call last)",
      "\u001b[1;32m~\\AppData\\Local\\Temp\\ipykernel_4796\\371621595.py\u001b[0m in \u001b[0;36m<module>\u001b[1;34m\u001b[0m\n\u001b[1;32m----> 1\u001b[1;33m \u001b[0mtrain_loader\u001b[0m\u001b[1;33m,\u001b[0m \u001b[0mvalid_loader\u001b[0m \u001b[1;33m=\u001b[0m \u001b[0mget_dataset\u001b[0m\u001b[1;33m(\u001b[0m\u001b[0mdataset_dir\u001b[0m\u001b[1;33m,\u001b[0m \u001b[0mbatch_size\u001b[0m\u001b[1;33m=\u001b[0m\u001b[1;36m16\u001b[0m\u001b[1;33m)\u001b[0m\u001b[1;33m\u001b[0m\u001b[1;33m\u001b[0m\u001b[0m\n\u001b[0m",
      "\u001b[1;31mTypeError\u001b[0m: get_dataset() got an unexpected keyword argument 'batch_size'"
     ]
    }
   ],
   "source": [
    "train_loader, valid_loader = get_dataset(dataset_dir, batch_size=16)"
   ]
  },
  {
   "cell_type": "code",
   "execution_count": null,
   "id": "e6c51051",
   "metadata": {},
   "outputs": [],
   "source": []
  }
 ],
 "metadata": {
  "kernelspec": {
   "display_name": "Python 3 (ipykernel)",
   "language": "python",
   "name": "python3"
  },
  "language_info": {
   "codemirror_mode": {
    "name": "ipython",
    "version": 3
   },
   "file_extension": ".py",
   "mimetype": "text/x-python",
   "name": "python",
   "nbconvert_exporter": "python",
   "pygments_lexer": "ipython3",
   "version": "3.7.16"
  }
 },
 "nbformat": 4,
 "nbformat_minor": 5
}
