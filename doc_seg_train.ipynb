{
 "cells": [
  {
   "cell_type": "code",
   "execution_count": 21,
   "id": "a502e9f9",
   "metadata": {},
   "outputs": [],
   "source": [
    "import torch\n",
    "import numpy as np\n",
    "import torch.nn as nn\n",
    "from torchvision.models.segmentation import deeplabv3_resnet50"
   ]
  },
  {
   "cell_type": "code",
   "execution_count": 23,
   "id": "2040add0",
   "metadata": {},
   "outputs": [],
   "source": [
    "def seed_everything(seed_value):\n",
    "    np.random.seed(seed_value)\n",
    "    torch.manual_seed(seed_value)\n",
    "    torch.backends.cudnn.deterministic = True\n",
    "    torch.backends.cudnn.benchmark = True\n",
    "\n",
    "\n",
    "# For reproducibility\n",
    "seed = 100\n",
    "seed_everything(seed)"
   ]
  },
  {
   "cell_type": "code",
   "execution_count": 18,
   "id": "4d4a318d",
   "metadata": {},
   "outputs": [],
   "source": [
    "def prepare_model(backbone_model=deeplabv3_resnet50, num_classes=2):\n",
    "    weights = 'DEFAULT'    # Initialize model with pre-trained weights.\n",
    "\n",
    "    model = deeplabv3_resnet50(weights=weights)\n",
    " \n",
    "    # Update the number of output channels for the output layer.\n",
    "    # This will remove the pre-trained weights for the last layer.\n",
    "    model.classifier[4]         = nn.LazyConv2d(num_classes, 1)\n",
    "    model.aux_classifier[4] = nn.LazyConv2d(num_classes, 1)\n",
    " \n",
    "    return model"
   ]
  },
  {
   "cell_type": "code",
   "execution_count": 19,
   "id": "e045420a",
   "metadata": {},
   "outputs": [
    {
     "name": "stdout",
     "output_type": "stream",
     "text": [
      "torch.Size([2, 5, 384, 384])\n"
     ]
    }
   ],
   "source": [
    "# Dummy Initialization.\n",
    "model = prepare_model(num_classes=2)\n",
    "model.train() \n",
    "# In train mode, batch size needs to be at least 2.\n",
    "out = model(torch.randn((2, 3, 384, 384)))\n",
    "print(out['out'].shape) # torch.Size([2, 2, 384, 384])"
   ]
  },
  {
   "cell_type": "code",
   "execution_count": null,
   "id": "3f4a7ecd",
   "metadata": {},
   "outputs": [],
   "source": []
  },
  {
   "cell_type": "code",
   "execution_count": null,
   "id": "a1fe767e",
   "metadata": {},
   "outputs": [],
   "source": []
  }
 ],
 "metadata": {
  "kernelspec": {
   "display_name": "Python 3 (ipykernel)",
   "language": "python",
   "name": "python3"
  },
  "language_info": {
   "codemirror_mode": {
    "name": "ipython",
    "version": 3
   },
   "file_extension": ".py",
   "mimetype": "text/x-python",
   "name": "python",
   "nbconvert_exporter": "python",
   "pygments_lexer": "ipython3",
   "version": "3.7.16"
  }
 },
 "nbformat": 4,
 "nbformat_minor": 5
}
